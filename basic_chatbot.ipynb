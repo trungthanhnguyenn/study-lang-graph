{
 "cells": [
  {
   "cell_type": "markdown",
   "id": "ee00ad42",
   "metadata": {},
   "source": [
    "## Uncomment the following line to install dependencies in first run"
   ]
  },
  {
   "cell_type": "code",
   "execution_count": 1,
   "id": "9302d662",
   "metadata": {},
   "outputs": [],
   "source": [
    "# !pip install -U langgraph langsmith"
   ]
  },
  {
   "cell_type": "markdown",
   "id": "374475fe",
   "metadata": {},
   "source": [
    "## Create a *`StateGraph`*\n",
    "- Start by creating a *`StateGraph`*. A *`StateGraph`* object defines the structure of our chatbot as a \"state machine\". We'll add nodes to represent the llm and functions our chatbot can call and edges to specify how the bot should transition between these functions."
   ]
  },
  {
   "cell_type": "code",
   "execution_count": 2,
   "id": "d933c894",
   "metadata": {},
   "outputs": [],
   "source": [
    "from typing import Annotated\n",
    "\n",
    "from typing_extensions import TypedDict\n",
    "\n",
    "from langgraph.graph import StateGraph, START, END\n",
    "from langgraph.graph.message import add_messages\n",
    "\n",
    "\n",
    "class State(TypedDict):\n",
    "    # Message have type \"list\". The \"add_message\" function\n",
    "    # in the annotation defines how this state key should be updated\n",
    "    # (in this case, it appends messages to the list, rather than overwriting them)\n",
    "    messages: Annotated[list[str], add_messages]\n",
    "\n",
    "\n",
    "graph_builder = StateGraph(State)"
   ]
  },
  {
   "cell_type": "markdown",
   "id": "228c4bce",
   "metadata": {},
   "source": [
    "## Add a *`node`*\n",
    "- Next add a \"chatbot\" node. **Nodes** represent units of work and are typically regular functions."
   ]
  },
  {
   "cell_type": "code",
   "execution_count": 3,
   "id": "4d50886c",
   "metadata": {},
   "outputs": [],
   "source": [
    "# !pip install -U \"langchain[openai]\""
   ]
  },
  {
   "cell_type": "code",
   "execution_count": 4,
   "id": "4f48fd3e",
   "metadata": {},
   "outputs": [],
   "source": [
    "# !pip install python-dotenv"
   ]
  },
  {
   "cell_type": "code",
   "execution_count": 5,
   "id": "c836e9ac",
   "metadata": {},
   "outputs": [],
   "source": [
    "import os\n",
    "from dotenv import load_dotenv\n",
    "from langchain.chat_models import init_chat_model\n",
    "\n",
    "load_dotenv()\n",
    "\n",
    "llm = init_chat_model(\n",
    "        model=os.getenv(\"MODEL_NAME\"),\n",
    "        model_provider=\"openai\",\n",
    "        base_url = os.getenv(\"OPENAI_BASE_URL\"),\n",
    "        api_key = os.getenv(\"OPENAI_API_KEY\")\n",
    "    )"
   ]
  },
  {
   "cell_type": "code",
   "execution_count": 6,
   "id": "b6fb80ee",
   "metadata": {},
   "outputs": [
    {
     "data": {
      "text/plain": [
       "<langgraph.graph.state.StateGraph at 0x1049f94b0>"
      ]
     },
     "execution_count": 6,
     "metadata": {},
     "output_type": "execute_result"
    }
   ],
   "source": [
    "def chatbot(state: State):\n",
    "    return {\"messages\": [llm.invoke(state[\"messages\"])]}\n",
    "\n",
    "# The first argument is the unique node name\n",
    "# The second argument is the function or object that will be called whenever\n",
    "# the note is used.\n",
    "graph_builder.add_node(\"chatbot\", chatbot)"
   ]
  },
  {
   "cell_type": "markdown",
   "id": "b56bc00b",
   "metadata": {},
   "source": [
    "## Add and `entry` point\n",
    "- Add an `entry` point to tell the graph **where to start its work** each time it is run:"
   ]
  },
  {
   "cell_type": "code",
   "execution_count": 7,
   "id": "fff4aaa4",
   "metadata": {},
   "outputs": [
    {
     "data": {
      "text/plain": [
       "<langgraph.graph.state.StateGraph at 0x1049f94b0>"
      ]
     },
     "execution_count": 7,
     "metadata": {},
     "output_type": "execute_result"
    }
   ],
   "source": [
    "graph_builder.add_edge(START, \"chatbot\")"
   ]
  },
  {
   "cell_type": "markdown",
   "id": "d9872ee3",
   "metadata": {},
   "source": [
    "## Add and `exit` point\n",
    "- Add an `exit` point to indicate **where the graph should finish execution.** This is helpful for more complex flows, but even in a simple graph like this, adding an end node improves clarity."
   ]
  },
  {
   "cell_type": "code",
   "execution_count": 8,
   "id": "c3bf3d95",
   "metadata": {},
   "outputs": [
    {
     "data": {
      "text/plain": [
       "<langgraph.graph.state.StateGraph at 0x1049f94b0>"
      ]
     },
     "execution_count": 8,
     "metadata": {},
     "output_type": "execute_result"
    }
   ],
   "source": [
    "graph_builder.add_edge(\"chatbot\", END)"
   ]
  },
  {
   "cell_type": "markdown",
   "id": "2fcb6edd",
   "metadata": {},
   "source": [
    "## Compile the graph\n",
    "- Before running the graph, we'll need to compile it. We can do so by calling `compile()` on the graph builder. This creates a `CompiledGraph` we can invoke on our state."
   ]
  },
  {
   "cell_type": "code",
   "execution_count": 9,
   "id": "7e33b751",
   "metadata": {},
   "outputs": [],
   "source": [
    "graph = graph_builder.compile()"
   ]
  },
  {
   "cell_type": "markdown",
   "id": "9186a47c",
   "metadata": {},
   "source": [
    "## Visualize the graph (optional)\n",
    "- You can visualize the graph using the `get_graph` method and one of the \"draw\" methods, like `draw_ascii` or `draw_png`. The `draw` methods each require additional dependencies."
   ]
  },
  {
   "cell_type": "code",
   "execution_count": 10,
   "id": "9c149c1c",
   "metadata": {},
   "outputs": [
    {
     "data": {
      "image/png": "[encoded data removed]",
      "text/plain": [
       "<IPython.core.display.Image object>"
      ]
     },
     "metadata": {},
     "output_type": "display_data"
    }
   ],
   "source": [
    "from IPython.display import Image, display\n",
    "\n",
    "try:\n",
    "    display(Image(graph.get_graph().draw_mermaid_png()))\n",
    "except Exception as e:\n",
    "    pass"
   ]
  },
  {
   "cell_type": "markdown",
   "id": "ba53b5b8",
   "metadata": {},
   "source": [
    "## Run the chatbot"
   ]
  },
  {
   "cell_type": "code",
   "execution_count": 11,
   "id": "578f86a0",
   "metadata": {},
   "outputs": [
    {
     "name": "stdout",
     "output_type": "stream",
     "text": [
      "Assistant: Okay, let's break down why oceans are blue. It's a surprisingly complex topic, and it's not as simple as \"the ocean reflects the sky.\" Here's a detailed explanation, covering the main factors:\n",
      "\n",
      "**1. Sunlight & the Spectrum of Colors**\n",
      "\n",
      "*   **White Sunlight:** Sunlight appears white to us, but it's actually made up of all the colors of the rainbow (red, orange, yellow, green, blue, indigo, violet). You can see this when sunlight passes through a prism, or during a rain shower (creating a rainbow).\n",
      "*   **Different Colors, Different Wavelengths:** Each color has a different wavelength.  Red and orange have longer wavelengths, while blue and violet have shorter wavelengths.\n",
      "\n",
      "**2. Water's Interaction with Light - Absorption and Scattering**\n",
      "\n",
      "*   **Absorption:** When sunlight hits the water, different colors are absorbed at different rates.  Here's the key:\n",
      "    *   **Red, Orange, and Yellow:** These colors (longer wavelengths) are absorbed *very* quickly, especially in the upper layers of the water. After only a few meters, most of the red light is gone.\n",
      "    *   **Green:**  Green is absorbed a bit slower than red, but still significantly.\n",
      "    *   **Blue and Violet:**  These colors (shorter wavelengths) are absorbed the *least*. They penetrate the water much farther.\n",
      "*   **Scattering:**  Scattering is when light bounces off something. In the water, light can scatter off:\n",
      "    *   **Water Molecules:**  Water molecules themselves scatter light.\n",
      "    *   **Particles in the Water:** This includes tiny particles of sediment, plankton, and other things suspended in the water.\n",
      "\n",
      "**3. Rayleigh Scattering - The Primary Reason for Blue Color**\n",
      "\n",
      "*   **What is Rayleigh Scattering?**  This is a specific type of scattering that's crucial. Rayleigh scattering happens when light interacts with particles that are *much smaller* than the wavelength of the light. Water molecules are a good size for this.\n",
      "*   **How it Works:** Because of the physics of Rayleigh scattering, shorter wavelengths (blue and violet) are scattered *much more* than longer wavelengths (red and orange). This is an inverse relationship to the fourth power of the wavelength.  (Essentially, shorter wavelengths get scattered a *lot* more.)\n",
      "*   **Why Blue, Not Violet?** Violet is scattered even *more* than blue. However:\n",
      "    *   **Sunlight's Composition:** The sun emits slightly less violet light than blue light.\n",
      "    *   **Absorption of Violet:** Water absorbs violet light a bit more than blue light.\n",
      "    *   **Our Eyes:**  Our eyes are more sensitive to blue than violet.\n",
      "\n",
      "**4. Other Factors that Influence Ocean Color**\n",
      "\n",
      "*   **Depth:** The deeper you go, the less light there is, regardless of color. At significant depths, the ocean appears very dark because nearly all light has been absorbed or scattered.\n",
      "*   **Sediment & Organic Matter:**\n",
      "    *   **Turbidity:** If there'u2019s a lot of sediment or suspended particles in the water (turbidity), the water can appear brown, green, or grey. This scatters all colors, masking the blue.\n",
      "    *   **Phytoplankton:** Phytoplankton (tiny, plant-like organisms) contain chlorophyll, which absorbs red and blue light and reflects green light.  Large blooms of phytoplankton can make the water appear green.\n",
      "*   **Location:**\n",
      "    *   **Coastal Waters:** Coastal waters often have more sediment and runoff, making them appear different from the open ocean.\n",
      "    *   **Polar Regions:** In polar regions, the angle of the sun is low, which can affect how light interacts with the water.\n",
      "\n",
      "**In Summary:**\n",
      "\n",
      "The ocean is blue primarily because:\n",
      "\n",
      "1.  Water absorbs longer wavelengths (red, orange, yellow) quickly.\n",
      "2.  Water molecules scatter shorter wavelengths (blue and violet) more effectively through a process called Rayleigh scattering.\n",
      "3.  Our eyes are more sensitive to blue than violet, and the sun emits slightly more blue light.\n",
      "\n",
      "\n",
      "\n",
      "I hope this detailed explanation clears up why our oceans are such a beautiful blue color! Do you have any other questions about the ocean or light?\n",
      "Goodbye!\n"
     ]
    }
   ],
   "source": [
    "def stream_graph_updates(user_input: str):\n",
    "    for event in graph.stream({\"messages\": [{\"role\": \"user\", \"content\": user_input}]}):\n",
    "        for value in event.values():\n",
    "            print(\"Assistant:\", value[\"messages\"][-1].content)\n",
    "\n",
    "\n",
    "while True:\n",
    "    try:\n",
    "        user_input = input(\"User: \")\n",
    "        if user_input.lower() in [\"quit\", \"exit\", \"q\"]:\n",
    "            print(\"Goodbye!\")\n",
    "            break\n",
    "        stream_graph_updates(user_input)\n",
    "    except:\n",
    "        # fallback if input() is not available\n",
    "        user_input = \"What do you know about LangGraph?\"\n",
    "        print(\"User: \" + user_input)\n",
    "        stream_graph_updates(user_input)\n",
    "        break"
   ]
  },
  {
   "cell_type": "code",
   "execution_count": null,
   "id": "97d889f8",
   "metadata": {},
   "outputs": [],
   "source": []
  }
 ],
 "metadata": {
  "kernelspec": {
   "display_name": "study",
   "language": "python",
   "name": "python3"
  },
  "language_info": {
   "codemirror_mode": {
    "name": "ipython",
    "version": 3
   },
   "file_extension": ".py",
   "mimetype": "text/x-python",
   "name": "python",
   "nbconvert_exporter": "python",
   "pygments_lexer": "ipython3",
   "version": "3.10.18"
  }
 },
 "nbformat": 4,
 "nbformat_minor": 5
}
