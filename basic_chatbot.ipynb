{
 "cells": [
  {
   "cell_type": "code",
   "execution_count": null,
   "id": "9302d662",
   "metadata": {},
   "outputs": [
    {
     "name": "stdout",
     "output_type": "stream",
     "text": [
      "Collecting langgraph\n",
      "  Downloading langgraph-0.6.5-py3-none-any.whl.metadata (6.8 kB)\n",
      "Collecting langsmith\n",
      "  Downloading langsmith-0.4.14-py3-none-any.whl.metadata (14 kB)\n",
      "Collecting langchain-core>=0.1 (from langgraph)\n",
      "  Downloading langchain_core-0.3.74-py3-none-any.whl.metadata (5.8 kB)\n",
      "Collecting langgraph-checkpoint<3.0.0,>=2.1.0 (from langgraph)\n",
      "  Downloading langgraph_checkpoint-2.1.1-py3-none-any.whl.metadata (4.2 kB)\n",
      "Collecting langgraph-prebuilt<0.7.0,>=0.6.0 (from langgraph)\n",
      "  Downloading langgraph_prebuilt-0.6.4-py3-none-any.whl.metadata (4.5 kB)\n",
      "Collecting langgraph-sdk<0.3.0,>=0.2.0 (from langgraph)\n",
      "  Downloading langgraph_sdk-0.2.2-py3-none-any.whl.metadata (1.5 kB)\n",
      "Collecting pydantic>=2.7.4 (from langgraph)\n",
      "  Using cached pydantic-2.11.7-py3-none-any.whl.metadata (67 kB)\n",
      "Collecting xxhash>=3.5.0 (from langgraph)\n",
      "  Using cached xxhash-3.5.0-cp310-cp310-macosx_11_0_arm64.whl.metadata (12 kB)\n",
      "Collecting ormsgpack>=1.10.0 (from langgraph-checkpoint<3.0.0,>=2.1.0->langgraph)\n",
      "  Downloading ormsgpack-1.10.0-cp310-cp310-macosx_10_12_x86_64.macosx_11_0_arm64.macosx_10_12_universal2.whl.metadata (43 kB)\n",
      "Collecting httpx>=0.25.2 (from langgraph-sdk<0.3.0,>=0.2.0->langgraph)\n",
      "  Using cached httpx-0.28.1-py3-none-any.whl.metadata (7.1 kB)\n",
      "Collecting orjson>=3.10.1 (from langgraph-sdk<0.3.0,>=0.2.0->langgraph)\n",
      "  Using cached orjson-3.11.2-cp310-cp310-macosx_10_15_x86_64.macosx_11_0_arm64.macosx_10_15_universal2.whl.metadata (1.2 kB)\n",
      "Requirement already satisfied: packaging>=23.2 in /Users/thanhtrung/miniconda3/envs/study/lib/python3.10/site-packages (from langsmith) (25.0)\n",
      "Collecting requests-toolbelt>=1.0.0 (from langsmith)\n",
      "  Using cached requests_toolbelt-1.0.0-py2.py3-none-any.whl.metadata (14 kB)\n",
      "Collecting requests>=2.0.0 (from langsmith)\n",
      "  Downloading requests-2.32.5-py3-none-any.whl.metadata (4.9 kB)\n",
      "Collecting zstandard>=0.23.0 (from langsmith)\n",
      "  Downloading zstandard-0.24.0-cp310-cp310-macosx_11_0_arm64.whl.metadata (3.1 kB)\n",
      "Collecting anyio (from httpx>=0.25.2->langgraph-sdk<0.3.0,>=0.2.0->langgraph)\n",
      "  Downloading anyio-4.10.0-py3-none-any.whl.metadata (4.0 kB)\n",
      "Collecting certifi (from httpx>=0.25.2->langgraph-sdk<0.3.0,>=0.2.0->langgraph)\n",
      "  Using cached certifi-2025.8.3-py3-none-any.whl.metadata (2.4 kB)\n",
      "Collecting httpcore==1.* (from httpx>=0.25.2->langgraph-sdk<0.3.0,>=0.2.0->langgraph)\n",
      "  Using cached httpcore-1.0.9-py3-none-any.whl.metadata (21 kB)\n",
      "Collecting idna (from httpx>=0.25.2->langgraph-sdk<0.3.0,>=0.2.0->langgraph)\n",
      "  Using cached idna-3.10-py3-none-any.whl.metadata (10 kB)\n",
      "Collecting h11>=0.16 (from httpcore==1.*->httpx>=0.25.2->langgraph-sdk<0.3.0,>=0.2.0->langgraph)\n",
      "  Using cached h11-0.16.0-py3-none-any.whl.metadata (8.3 kB)\n",
      "Collecting annotated-types>=0.6.0 (from pydantic>=2.7.4->langgraph)\n",
      "  Using cached annotated_types-0.7.0-py3-none-any.whl.metadata (15 kB)\n",
      "Collecting pydantic-core==2.33.2 (from pydantic>=2.7.4->langgraph)\n",
      "  Using cached pydantic_core-2.33.2-cp310-cp310-macosx_11_0_arm64.whl.metadata (6.8 kB)\n",
      "Requirement already satisfied: typing-extensions>=4.12.2 in /Users/thanhtrung/miniconda3/envs/study/lib/python3.10/site-packages (from pydantic>=2.7.4->langgraph) (4.14.1)\n",
      "Collecting typing-inspection>=0.4.0 (from pydantic>=2.7.4->langgraph)\n",
      "  Using cached typing_inspection-0.4.1-py3-none-any.whl.metadata (2.6 kB)\n",
      "Collecting tenacity!=8.4.0,<10.0.0,>=8.1.0 (from langchain-core>=0.1->langgraph)\n",
      "  Using cached tenacity-9.1.2-py3-none-any.whl.metadata (1.2 kB)\n",
      "Collecting jsonpatch<2.0,>=1.33 (from langchain-core>=0.1->langgraph)\n",
      "  Using cached jsonpatch-1.33-py2.py3-none-any.whl.metadata (3.0 kB)\n",
      "Collecting PyYAML>=5.3 (from langchain-core>=0.1->langgraph)\n",
      "  Using cached PyYAML-6.0.2-cp310-cp310-macosx_11_0_arm64.whl.metadata (2.1 kB)\n",
      "Collecting jsonpointer>=1.9 (from jsonpatch<2.0,>=1.33->langchain-core>=0.1->langgraph)\n",
      "  Using cached jsonpointer-3.0.0-py2.py3-none-any.whl.metadata (2.3 kB)\n",
      "Collecting charset_normalizer<4,>=2 (from requests>=2.0.0->langsmith)\n",
      "  Using cached charset_normalizer-3.4.3-cp310-cp310-macosx_10_9_universal2.whl.metadata (36 kB)\n",
      "Collecting urllib3<3,>=1.21.1 (from requests>=2.0.0->langsmith)\n",
      "  Using cached urllib3-2.5.0-py3-none-any.whl.metadata (6.5 kB)\n",
      "Requirement already satisfied: exceptiongroup>=1.0.2 in /Users/thanhtrung/miniconda3/envs/study/lib/python3.10/site-packages (from anyio->httpx>=0.25.2->langgraph-sdk<0.3.0,>=0.2.0->langgraph) (1.3.0)\n",
      "Collecting sniffio>=1.1 (from anyio->httpx>=0.25.2->langgraph-sdk<0.3.0,>=0.2.0->langgraph)\n",
      "  Using cached sniffio-1.3.1-py3-none-any.whl.metadata (3.9 kB)\n",
      "Downloading langgraph-0.6.5-py3-none-any.whl (153 kB)\n",
      "Downloading langgraph_checkpoint-2.1.1-py3-none-any.whl (43 kB)\n",
      "Downloading langgraph_prebuilt-0.6.4-py3-none-any.whl (28 kB)\n",
      "Downloading langgraph_sdk-0.2.2-py3-none-any.whl (52 kB)\n",
      "Downloading langsmith-0.4.14-py3-none-any.whl (373 kB)\n",
      "Using cached httpx-0.28.1-py3-none-any.whl (73 kB)\n",
      "Using cached httpcore-1.0.9-py3-none-any.whl (78 kB)\n",
      "Using cached pydantic-2.11.7-py3-none-any.whl (444 kB)\n",
      "Using cached pydantic_core-2.33.2-cp310-cp310-macosx_11_0_arm64.whl (1.9 MB)\n",
      "Using cached annotated_types-0.7.0-py3-none-any.whl (13 kB)\n",
      "Using cached h11-0.16.0-py3-none-any.whl (37 kB)\n",
      "Downloading langchain_core-0.3.74-py3-none-any.whl (443 kB)\n",
      "Using cached jsonpatch-1.33-py2.py3-none-any.whl (12 kB)\n",
      "Using cached tenacity-9.1.2-py3-none-any.whl (28 kB)\n",
      "Using cached jsonpointer-3.0.0-py2.py3-none-any.whl (7.6 kB)\n",
      "Using cached orjson-3.11.2-cp310-cp310-macosx_10_15_x86_64.macosx_11_0_arm64.macosx_10_15_universal2.whl (226 kB)\n",
      "Downloading ormsgpack-1.10.0-cp310-cp310-macosx_10_12_x86_64.macosx_11_0_arm64.macosx_10_12_universal2.whl (376 kB)\n",
      "Using cached PyYAML-6.0.2-cp310-cp310-macosx_11_0_arm64.whl (171 kB)\n",
      "Downloading requests-2.32.5-py3-none-any.whl (64 kB)\n",
      "Using cached charset_normalizer-3.4.3-cp310-cp310-macosx_10_9_universal2.whl (207 kB)\n",
      "Using cached idna-3.10-py3-none-any.whl (70 kB)\n",
      "Using cached urllib3-2.5.0-py3-none-any.whl (129 kB)\n",
      "Using cached certifi-2025.8.3-py3-none-any.whl (161 kB)\n",
      "Using cached requests_toolbelt-1.0.0-py2.py3-none-any.whl (54 kB)\n",
      "Using cached typing_inspection-0.4.1-py3-none-any.whl (14 kB)\n",
      "Using cached xxhash-3.5.0-cp310-cp310-macosx_11_0_arm64.whl (30 kB)\n",
      "Downloading zstandard-0.24.0-cp310-cp310-macosx_11_0_arm64.whl (640 kB)\n",
      "\u001b[2K   \u001b[90m━━━━━━━━━━━━━━━━━━━━━━━━━━━━━━━━━━━━━━━━\u001b[0m \u001b[32m640.5/640.5 kB\u001b[0m \u001b[31m26.6 MB/s\u001b[0m eta \u001b[36m0:00:00\u001b[0m\n",
      "\u001b[?25hDownloading anyio-4.10.0-py3-none-any.whl (107 kB)\n",
      "Using cached sniffio-1.3.1-py3-none-any.whl (10 kB)\n",
      "Installing collected packages: zstandard, xxhash, urllib3, typing-inspection, tenacity, sniffio, PyYAML, pydantic-core, ormsgpack, orjson, jsonpointer, idna, h11, charset_normalizer, certifi, annotated-types, requests, pydantic, jsonpatch, httpcore, anyio, requests-toolbelt, httpx, langsmith, langgraph-sdk, langchain-core, langgraph-checkpoint, langgraph-prebuilt, langgraph\n",
      "\u001b[2K   \u001b[90m━━━━━━━━━━━━━━━━━━━━━━━━━━━━━━━━━━━━━━━━\u001b[0m \u001b[32m29/29\u001b[0m [langgraph]29\u001b[0m [langchain-core]\n",
      "\u001b[1A\u001b[2KSuccessfully installed PyYAML-6.0.2 annotated-types-0.7.0 anyio-4.10.0 certifi-2025.8.3 charset_normalizer-3.4.3 h11-0.16.0 httpcore-1.0.9 httpx-0.28.1 idna-3.10 jsonpatch-1.33 jsonpointer-3.0.0 langchain-core-0.3.74 langgraph-0.6.5 langgraph-checkpoint-2.1.1 langgraph-prebuilt-0.6.4 langgraph-sdk-0.2.2 langsmith-0.4.14 orjson-3.11.2 ormsgpack-1.10.0 pydantic-2.11.7 pydantic-core-2.33.2 requests-2.32.5 requests-toolbelt-1.0.0 sniffio-1.3.1 tenacity-9.1.2 typing-inspection-0.4.1 urllib3-2.5.0 xxhash-3.5.0 zstandard-0.24.0\n"
     ]
    }
   ],
   "source": [
    "# !pip install -U langgraph langsmith"
   ]
  },
  {
   "cell_type": "markdown",
   "id": "374475fe",
   "metadata": {},
   "source": [
    "## Create a StateGraph\n",
    "- Start by creating a StateGraph. A StateGraph object defines the structure of our chatbot as a \"state machine\". We'll add nodes to represent the llm and functions our chatbot can call and edges to specify how the bot should transition between these functions."
   ]
  },
  {
   "cell_type": "code",
   "execution_count": 2,
   "id": "d933c894",
   "metadata": {},
   "outputs": [],
   "source": [
    "from typing import Annotated\n",
    "\n",
    "from typing_extensions import TypedDict\n",
    "\n",
    "from langgraph.graph import StateGraph, START, END\n",
    "from langgraph.graph.message import add_messages\n",
    "\n",
    "\n",
    "class State(TypedDict):\n",
    "    # Message have type \"list\". The \"add_message\" function\n",
    "    # in the annotation defines how this state key should be updated\n",
    "    # (in this case, it appends messages to the list, rather than overwriting them)\n",
    "    messages: Annotated[list[str], add_messages]\n",
    "\n",
    "\n",
    "graph_builder = StateGraph(State)"
   ]
  },
  {
   "cell_type": "markdown",
   "id": "228c4bce",
   "metadata": {},
   "source": [
    "## Add a node\n",
    "- Next add a \"chatbot\" node. **Nodes** represent units of work and are typically regular functions."
   ]
  },
  {
   "cell_type": "code",
   "execution_count": null,
   "id": "4d50886c",
   "metadata": {},
   "outputs": [
    {
     "name": "stdout",
     "output_type": "stream",
     "text": [
      "Collecting langchain[openai]\n",
      "  Downloading langchain-0.3.27-py3-none-any.whl.metadata (7.8 kB)\n",
      "Requirement already satisfied: langchain-core<1.0.0,>=0.3.72 in /Users/thanhtrung/miniconda3/envs/study/lib/python3.10/site-packages (from langchain[openai]) (0.3.74)\n",
      "Collecting langchain-text-splitters<1.0.0,>=0.3.9 (from langchain[openai])\n",
      "  Downloading langchain_text_splitters-0.3.9-py3-none-any.whl.metadata (1.9 kB)\n",
      "Requirement already satisfied: langsmith>=0.1.17 in /Users/thanhtrung/miniconda3/envs/study/lib/python3.10/site-packages (from langchain[openai]) (0.4.14)\n",
      "Requirement already satisfied: pydantic<3.0.0,>=2.7.4 in /Users/thanhtrung/miniconda3/envs/study/lib/python3.10/site-packages (from langchain[openai]) (2.11.7)\n",
      "Collecting SQLAlchemy<3,>=1.4 (from langchain[openai])\n",
      "  Downloading sqlalchemy-2.0.43-cp310-cp310-macosx_11_0_arm64.whl.metadata (9.6 kB)\n",
      "Requirement already satisfied: requests<3,>=2 in /Users/thanhtrung/miniconda3/envs/study/lib/python3.10/site-packages (from langchain[openai]) (2.32.5)\n",
      "Requirement already satisfied: PyYAML>=5.3 in /Users/thanhtrung/miniconda3/envs/study/lib/python3.10/site-packages (from langchain[openai]) (6.0.2)\n",
      "Collecting async-timeout<5.0.0,>=4.0.0 (from langchain[openai])\n",
      "  Using cached async_timeout-4.0.3-py3-none-any.whl.metadata (4.2 kB)\n",
      "Collecting langchain-openai (from langchain[openai])\n",
      "  Downloading langchain_openai-0.3.30-py3-none-any.whl.metadata (2.4 kB)\n",
      "Requirement already satisfied: tenacity!=8.4.0,<10.0.0,>=8.1.0 in /Users/thanhtrung/miniconda3/envs/study/lib/python3.10/site-packages (from langchain-core<1.0.0,>=0.3.72->langchain[openai]) (9.1.2)\n",
      "Requirement already satisfied: jsonpatch<2.0,>=1.33 in /Users/thanhtrung/miniconda3/envs/study/lib/python3.10/site-packages (from langchain-core<1.0.0,>=0.3.72->langchain[openai]) (1.33)\n",
      "Requirement already satisfied: typing-extensions>=4.7 in /Users/thanhtrung/miniconda3/envs/study/lib/python3.10/site-packages (from langchain-core<1.0.0,>=0.3.72->langchain[openai]) (4.14.1)\n",
      "Requirement already satisfied: packaging>=23.2 in /Users/thanhtrung/miniconda3/envs/study/lib/python3.10/site-packages (from langchain-core<1.0.0,>=0.3.72->langchain[openai]) (25.0)\n",
      "Requirement already satisfied: jsonpointer>=1.9 in /Users/thanhtrung/miniconda3/envs/study/lib/python3.10/site-packages (from jsonpatch<2.0,>=1.33->langchain-core<1.0.0,>=0.3.72->langchain[openai]) (3.0.0)\n",
      "Requirement already satisfied: annotated-types>=0.6.0 in /Users/thanhtrung/miniconda3/envs/study/lib/python3.10/site-packages (from pydantic<3.0.0,>=2.7.4->langchain[openai]) (0.7.0)\n",
      "Requirement already satisfied: pydantic-core==2.33.2 in /Users/thanhtrung/miniconda3/envs/study/lib/python3.10/site-packages (from pydantic<3.0.0,>=2.7.4->langchain[openai]) (2.33.2)\n",
      "Requirement already satisfied: typing-inspection>=0.4.0 in /Users/thanhtrung/miniconda3/envs/study/lib/python3.10/site-packages (from pydantic<3.0.0,>=2.7.4->langchain[openai]) (0.4.1)\n",
      "Requirement already satisfied: charset_normalizer<4,>=2 in /Users/thanhtrung/miniconda3/envs/study/lib/python3.10/site-packages (from requests<3,>=2->langchain[openai]) (3.4.3)\n",
      "Requirement already satisfied: idna<4,>=2.5 in /Users/thanhtrung/miniconda3/envs/study/lib/python3.10/site-packages (from requests<3,>=2->langchain[openai]) (3.10)\n",
      "Requirement already satisfied: urllib3<3,>=1.21.1 in /Users/thanhtrung/miniconda3/envs/study/lib/python3.10/site-packages (from requests<3,>=2->langchain[openai]) (2.5.0)\n",
      "Requirement already satisfied: certifi>=2017.4.17 in /Users/thanhtrung/miniconda3/envs/study/lib/python3.10/site-packages (from requests<3,>=2->langchain[openai]) (2025.8.3)\n",
      "Requirement already satisfied: httpx<1,>=0.23.0 in /Users/thanhtrung/miniconda3/envs/study/lib/python3.10/site-packages (from langsmith>=0.1.17->langchain[openai]) (0.28.1)\n",
      "Requirement already satisfied: orjson>=3.9.14 in /Users/thanhtrung/miniconda3/envs/study/lib/python3.10/site-packages (from langsmith>=0.1.17->langchain[openai]) (3.11.2)\n",
      "Requirement already satisfied: requests-toolbelt>=1.0.0 in /Users/thanhtrung/miniconda3/envs/study/lib/python3.10/site-packages (from langsmith>=0.1.17->langchain[openai]) (1.0.0)\n",
      "Requirement already satisfied: zstandard>=0.23.0 in /Users/thanhtrung/miniconda3/envs/study/lib/python3.10/site-packages (from langsmith>=0.1.17->langchain[openai]) (0.24.0)\n",
      "Requirement already satisfied: anyio in /Users/thanhtrung/miniconda3/envs/study/lib/python3.10/site-packages (from httpx<1,>=0.23.0->langsmith>=0.1.17->langchain[openai]) (4.10.0)\n",
      "Requirement already satisfied: httpcore==1.* in /Users/thanhtrung/miniconda3/envs/study/lib/python3.10/site-packages (from httpx<1,>=0.23.0->langsmith>=0.1.17->langchain[openai]) (1.0.9)\n",
      "Requirement already satisfied: h11>=0.16 in /Users/thanhtrung/miniconda3/envs/study/lib/python3.10/site-packages (from httpcore==1.*->httpx<1,>=0.23.0->langsmith>=0.1.17->langchain[openai]) (0.16.0)\n",
      "Requirement already satisfied: exceptiongroup>=1.0.2 in /Users/thanhtrung/miniconda3/envs/study/lib/python3.10/site-packages (from anyio->httpx<1,>=0.23.0->langsmith>=0.1.17->langchain[openai]) (1.3.0)\n",
      "Requirement already satisfied: sniffio>=1.1 in /Users/thanhtrung/miniconda3/envs/study/lib/python3.10/site-packages (from anyio->httpx<1,>=0.23.0->langsmith>=0.1.17->langchain[openai]) (1.3.1)\n",
      "Collecting openai<2.0.0,>=1.99.9 (from langchain-openai->langchain[openai])\n",
      "  Downloading openai-1.100.1-py3-none-any.whl.metadata (29 kB)\n",
      "Collecting tiktoken<1,>=0.7 (from langchain-openai->langchain[openai])\n",
      "  Downloading tiktoken-0.11.0-cp310-cp310-macosx_11_0_arm64.whl.metadata (6.7 kB)\n",
      "Collecting distro<2,>=1.7.0 (from openai<2.0.0,>=1.99.9->langchain-openai->langchain[openai])\n",
      "  Using cached distro-1.9.0-py3-none-any.whl.metadata (6.8 kB)\n",
      "Collecting jiter<1,>=0.4.0 (from openai<2.0.0,>=1.99.9->langchain-openai->langchain[openai])\n",
      "  Using cached jiter-0.10.0-cp310-cp310-macosx_11_0_arm64.whl.metadata (5.2 kB)\n",
      "Collecting tqdm>4 (from openai<2.0.0,>=1.99.9->langchain-openai->langchain[openai])\n",
      "  Using cached tqdm-4.67.1-py3-none-any.whl.metadata (57 kB)\n",
      "Collecting regex>=2022.1.18 (from tiktoken<1,>=0.7->langchain-openai->langchain[openai])\n",
      "  Downloading regex-2025.7.34-cp310-cp310-macosx_11_0_arm64.whl.metadata (40 kB)\n",
      "Downloading langchain-0.3.27-py3-none-any.whl (1.0 MB)\n",
      "\u001b[2K   \u001b[90m━━━━━━━━━━━━━━━━━━━━━━━━━━━━━━━━━━━━━━━━\u001b[0m \u001b[32m1.0/1.0 MB\u001b[0m \u001b[31m10.1 MB/s\u001b[0m eta \u001b[36m0:00:00\u001b[0m\n",
      "\u001b[?25hUsing cached async_timeout-4.0.3-py3-none-any.whl (5.7 kB)\n",
      "Downloading langchain_text_splitters-0.3.9-py3-none-any.whl (33 kB)\n",
      "Downloading sqlalchemy-2.0.43-cp310-cp310-macosx_11_0_arm64.whl (2.1 MB)\n",
      "\u001b[2K   \u001b[90m━━━━━━━━━━━━━━━━━━━━━━━━━━━━━━━━━━━━━━━━\u001b[0m \u001b[32m2.1/2.1 MB\u001b[0m \u001b[31m29.5 MB/s\u001b[0m eta \u001b[36m0:00:00\u001b[0m\n",
      "\u001b[?25hDownloading langchain_openai-0.3.30-py3-none-any.whl (74 kB)\n",
      "Downloading openai-1.100.1-py3-none-any.whl (788 kB)\n",
      "\u001b[2K   \u001b[90m━━━━━━━━━━━━━━━━━━━━━━━━━━━━━━━━━━━━━━━━\u001b[0m \u001b[32m788.3/788.3 kB\u001b[0m \u001b[31m32.3 MB/s\u001b[0m eta \u001b[36m0:00:00\u001b[0m\n",
      "\u001b[?25hUsing cached distro-1.9.0-py3-none-any.whl (20 kB)\n",
      "Using cached jiter-0.10.0-cp310-cp310-macosx_11_0_arm64.whl (322 kB)\n",
      "Downloading tiktoken-0.11.0-cp310-cp310-macosx_11_0_arm64.whl (999 kB)\n",
      "\u001b[2K   \u001b[90m━━━━━━━━━━━━━━━━━━━━━━━━━━━━━━━━━━━━━━━━\u001b[0m \u001b[32m999.2/999.2 kB\u001b[0m \u001b[31m33.6 MB/s\u001b[0m eta \u001b[36m0:00:00\u001b[0m\n",
      "\u001b[?25hDownloading regex-2025.7.34-cp310-cp310-macosx_11_0_arm64.whl (285 kB)\n",
      "Using cached tqdm-4.67.1-py3-none-any.whl (78 kB)\n",
      "Installing collected packages: tqdm, SQLAlchemy, regex, jiter, distro, async-timeout, tiktoken, openai, langchain-text-splitters, langchain-openai, langchain\n",
      "\u001b[2K   \u001b[90m━━━━━━━━━━━━━━━━━━━━━━━━━━━━━━━━━━━━━━━━\u001b[0m \u001b[32m11/11\u001b[0m [langchain]11\u001b[0m [langchain]]\n",
      "\u001b[1A\u001b[2KSuccessfully installed SQLAlchemy-2.0.43 async-timeout-4.0.3 distro-1.9.0 jiter-0.10.0 langchain-0.3.27 langchain-openai-0.3.30 langchain-text-splitters-0.3.9 openai-1.100.1 regex-2025.7.34 tiktoken-0.11.0 tqdm-4.67.1\n"
     ]
    }
   ],
   "source": [
    "# !pip install -U \"langchain[openai]\""
   ]
  },
  {
   "cell_type": "code",
   "execution_count": 13,
   "id": "4f48fd3e",
   "metadata": {},
   "outputs": [
    {
     "name": "stdout",
     "output_type": "stream",
     "text": [
      "Collecting python-dotenv\n",
      "  Using cached python_dotenv-1.1.1-py3-none-any.whl.metadata (24 kB)\n",
      "Using cached python_dotenv-1.1.1-py3-none-any.whl (20 kB)\n",
      "Installing collected packages: python-dotenv\n",
      "Successfully installed python-dotenv-1.1.1\n"
     ]
    }
   ],
   "source": [
    "!pip install python-dotenv"
   ]
  },
  {
   "cell_type": "code",
   "execution_count": 14,
   "id": "c836e9ac",
   "metadata": {},
   "outputs": [],
   "source": [
    "import os\n",
    "from dotenv import load_dotenv\n",
    "from langchain.chat_models import init_chat_model\n",
    "\n",
    "load_dotenv()\n",
    "\n",
    "llm = init_chat_model(\n",
    "        model=os.getenv(\"MODEL_NAME\"),\n",
    "        model_provider=\"openai\",\n",
    "        base_url = os.getenv(\"OPENAI_BASE_URL\"),\n",
    "        api_key = os.getenv(\"OPENAI_API_KEY\")\n",
    "    )"
   ]
  },
  {
   "cell_type": "code",
   "execution_count": 15,
   "id": "b6fb80ee",
   "metadata": {},
   "outputs": [
    {
     "name": "stderr",
     "output_type": "stream",
     "text": [
      "Adding a node to a graph that has already been compiled. This will not be reflected in the compiled graph.\n"
     ]
    },
    {
     "ename": "ValueError",
     "evalue": "Node `chatbot` already present.",
     "output_type": "error",
     "traceback": [
      "\u001b[0;31m---------------------------------------------------------------------------\u001b[0m",
      "\u001b[0;31mValueError\u001b[0m                                Traceback (most recent call last)",
      "Cell \u001b[0;32mIn[15], line 7\u001b[0m\n\u001b[1;32m      2\u001b[0m     \u001b[38;5;28;01mreturn\u001b[39;00m {\u001b[38;5;124m\"\u001b[39m\u001b[38;5;124mmessages\u001b[39m\u001b[38;5;124m\"\u001b[39m: [llm\u001b[38;5;241m.\u001b[39minvoke(state[\u001b[38;5;124m\"\u001b[39m\u001b[38;5;124mmessages\u001b[39m\u001b[38;5;124m\"\u001b[39m])]}\n\u001b[1;32m      4\u001b[0m \u001b[38;5;66;03m# The first argument is the unique node name\u001b[39;00m\n\u001b[1;32m      5\u001b[0m \u001b[38;5;66;03m# The second argument is the function or object that will be called whenever\u001b[39;00m\n\u001b[1;32m      6\u001b[0m \u001b[38;5;66;03m# the note is used.\u001b[39;00m\n\u001b[0;32m----> 7\u001b[0m \u001b[43mgraph_builder\u001b[49m\u001b[38;5;241;43m.\u001b[39;49m\u001b[43madd_node\u001b[49m\u001b[43m(\u001b[49m\u001b[38;5;124;43m\"\u001b[39;49m\u001b[38;5;124;43mchatbot\u001b[39;49m\u001b[38;5;124;43m\"\u001b[39;49m\u001b[43m,\u001b[49m\u001b[43m \u001b[49m\u001b[43mchatbot\u001b[49m\u001b[43m)\u001b[49m\n",
      "File \u001b[0;32m~/miniconda3/envs/study/lib/python3.10/site-packages/langgraph/graph/state.py:456\u001b[0m, in \u001b[0;36mStateGraph.add_node\u001b[0;34m(self, node, action, defer, metadata, input_schema, retry_policy, cache_policy, destinations, **kwargs)\u001b[0m\n\u001b[1;32m    454\u001b[0m     \u001b[38;5;28;01mraise\u001b[39;00m \u001b[38;5;167;01mRuntimeError\u001b[39;00m\n\u001b[1;32m    455\u001b[0m \u001b[38;5;28;01mif\u001b[39;00m node \u001b[38;5;129;01min\u001b[39;00m \u001b[38;5;28mself\u001b[39m\u001b[38;5;241m.\u001b[39mnodes:\n\u001b[0;32m--> 456\u001b[0m     \u001b[38;5;28;01mraise\u001b[39;00m \u001b[38;5;167;01mValueError\u001b[39;00m(\u001b[38;5;124mf\u001b[39m\u001b[38;5;124m\"\u001b[39m\u001b[38;5;124mNode `\u001b[39m\u001b[38;5;132;01m{\u001b[39;00mnode\u001b[38;5;132;01m}\u001b[39;00m\u001b[38;5;124m` already present.\u001b[39m\u001b[38;5;124m\"\u001b[39m)\n\u001b[1;32m    457\u001b[0m \u001b[38;5;28;01mif\u001b[39;00m node \u001b[38;5;241m==\u001b[39m END \u001b[38;5;129;01mor\u001b[39;00m node \u001b[38;5;241m==\u001b[39m START:\n\u001b[1;32m    458\u001b[0m     \u001b[38;5;28;01mraise\u001b[39;00m \u001b[38;5;167;01mValueError\u001b[39;00m(\u001b[38;5;124mf\u001b[39m\u001b[38;5;124m\"\u001b[39m\u001b[38;5;124mNode `\u001b[39m\u001b[38;5;132;01m{\u001b[39;00mnode\u001b[38;5;132;01m}\u001b[39;00m\u001b[38;5;124m` is reserved.\u001b[39m\u001b[38;5;124m\"\u001b[39m)\n",
      "\u001b[0;31mValueError\u001b[0m: Node `chatbot` already present."
     ]
    }
   ],
   "source": [
    "def chatbot(state: State):\n",
    "    return {\"messages\": [llm.invoke(state[\"messages\"])]}\n",
    "\n",
    "# The first argument is the unique node name\n",
    "# The second argument is the function or object that will be called whenever\n",
    "# the note is used.\n",
    "graph_builder.add_node(\"chatbot\", chatbot)"
   ]
  },
  {
   "cell_type": "markdown",
   "id": "b56bc00b",
   "metadata": {},
   "source": [
    "## Add and `entry` point\n",
    "- Add an `entry` point to tell the graph **where to start its work** each time it is run:"
   ]
  },
  {
   "cell_type": "code",
   "execution_count": 7,
   "id": "fff4aaa4",
   "metadata": {},
   "outputs": [
    {
     "data": {
      "text/plain": [
       "<langgraph.graph.state.StateGraph at 0x1203ea230>"
      ]
     },
     "execution_count": 7,
     "metadata": {},
     "output_type": "execute_result"
    }
   ],
   "source": [
    "graph_builder.add_edge(START, \"chatbot\")"
   ]
  },
  {
   "cell_type": "markdown",
   "id": "d9872ee3",
   "metadata": {},
   "source": [
    "## Add and `exit` point\n",
    "- Add an `exit` point to indicate **where the graph should finish execution.** This is helpful for more complex flows, but even in a simple graph like this, adding an end node improves clarity."
   ]
  },
  {
   "cell_type": "code",
   "execution_count": 8,
   "id": "c3bf3d95",
   "metadata": {},
   "outputs": [
    {
     "data": {
      "text/plain": [
       "<langgraph.graph.state.StateGraph at 0x1203ea230>"
      ]
     },
     "execution_count": 8,
     "metadata": {},
     "output_type": "execute_result"
    }
   ],
   "source": [
    "graph_builder.add_edge(\"chatbot\", END)"
   ]
  },
  {
   "cell_type": "markdown",
   "id": "2fcb6edd",
   "metadata": {},
   "source": [
    "## Compile the graph\n",
    "- Before running the graph, we'll need to compile it. We can do so by calling `compile()` on the graph builder. This creates a `CompiledGraph` we can invoke on our state."
   ]
  },
  {
   "cell_type": "code",
   "execution_count": 9,
   "id": "7e33b751",
   "metadata": {},
   "outputs": [],
   "source": [
    "graph = graph_builder.compile()"
   ]
  },
  {
   "cell_type": "markdown",
   "id": "9186a47c",
   "metadata": {},
   "source": [
    "## Visualize the graph (optional)\n",
    "- You can visualize the graph using the `get_graph` method and one of the \"draw\" methods, like `draw_ascii` or `draw_png`. The `draw` methods each require additional dependencies."
   ]
  },
  {
   "cell_type": "code",
   "execution_count": 11,
   "id": "9c149c1c",
   "metadata": {},
   "outputs": [
    {
     "data": {
      "image/png": "[encoded data removed]",
      "text/plain": [
       "<IPython.core.display.Image object>"
      ]
     },
     "metadata": {},
     "output_type": "display_data"
    }
   ],
   "source": [
    "from IPython.display import Image, display\n",
    "\n",
    "try:\n",
    "    display(Image(graph.get_graph().draw_mermaid_png()))\n",
    "except Exception as e:\n",
    "    pass"
   ]
  },
  {
   "cell_type": "markdown",
   "id": "ba53b5b8",
   "metadata": {},
   "source": [
    "## Run the chatbot"
   ]
  },
  {
   "cell_type": "code",
   "execution_count": 16,
   "id": "578f86a0",
   "metadata": {},
   "outputs": [
    {
     "name": "stdout",
     "output_type": "stream",
     "text": [
      "Assistant: Okay, let's break down why the ocean is blue. It's a surprisingly complex topic involving physics and water itself! Here's a comprehensive explanation, layered from simple to more detailed:\n",
      "\n",
      "**1. The Simple Answer: Scattering of Light**\n",
      "\n",
      "*   **Sunlight is White (or a Spectrum):** Sunlight appears white to us, but it's actually made up of all the colors of the rainbow (red, orange, yellow, green, blue, indigo, violet).\n",
      "*   **Water Molecules Interact with Light:** When sunlight hits the water, the water molecules interact with these different colors of light.\n",
      "*   **Blue Light is Scattered More:**  Blue and violet light have shorter wavelengths than other colors (like red and orange).  Shorter wavelengths are scattered more effectively by the water molecules. This phenomenon is called **Rayleigh scattering**. Think of it like tiny obstacles (water molecules) deflecting the light.\n",
      "*   **Our Eyes See the Scattered Blue:** Because blue light is scattered in all directions, it's what we see most prominently when we look at the ocean.\n",
      "\n",
      "**2.  Digging Deeper: Rayleigh Scattering Explained**\n",
      "\n",
      "*   **Wavelength and Scattering:** Rayleigh scattering says that the amount of scattering is inversely proportional to the fourth power of the wavelength.  This means:\n",
      "    *   Shorter wavelengths (blue, violet) are scattered *much* more.\n",
      "    *   Longer wavelengths (red, orange) are scattered *much* less.\n",
      "*   **Why Not Violet Then?** You might ask, \"If violet is scattered even *more* than blue, why isn't the ocean violet?\" There are a few reasons:\n",
      "    *   **Less Violet Light from the Sun:** The sun emits less violet light than blue light.\n",
      "    *   **Water Absorbs Violet:** Water molecules absorb violet light slightly more than blue light.\n",
      "    *   **Our Eyes are Less Sensitive to Violet:**  Human eyes are not as sensitive to violet light as they are to blue light.\n",
      "\n",
      "**3. What Changes the Ocean's Color? (It's Not Always Blue)**\n",
      "\n",
      "The ocean isn't *always* a uniform blue. Many factors can change its appearance:\n",
      "\n",
      "*   **Depth:** Deeper water appears darker blue because the light has to travel further and be scattered more times, and eventually the light is absorbed.\n",
      "*   **Sediment and Particles:**\n",
      "    *   **Suspended Sediment (mud, silt):** If there are lots of tiny particles suspended in the water (from rivers, erosion), the water can appear brown, gray, or even greenish. These particles scatter all colors of light.\n",
      "    *   **Phytoplankton:** These microscopic, plant-like organisms contain chlorophyll (like plants on land). They can make the water appear greenish, especially in areas with a lot of nutrients (like coastal waters).  Massive blooms of phytoplankton are often called \"algal blooms.\"\n",
      "*   **Dissolved Organic Matter (DOM):** Decaying organic matter (like leaves and plants) can release colored dissolved substances into the water, often giving it a yellowish or brownish hue. This is common in estuaries and coastal areas.\n",
      "*   **Reflection of the Sky:** The ocean'|s color can also be influenced by the color of the sky above it. On a cloudy day, the ocean may appear grayer.\n",
      "*   **Angle of Observation:** The angle at which you view the water can also affect its perceived color.\n",
      "\n",
      "**4.  Summary - Key Factors**\n",
      "\n",
      "Here's a quick recap of the main factors affecting the ocean's color:\n",
      "\n",
      "*   **Rayleigh Scattering:** The primary reason for the blue color due to the scattering of shorter wavelengths of light.\n",
      "*   **Water Depth:**  Affects how much light is scattered and absorbed.\n",
      "*   **Particles and Sediment:**  Scatter all colors of light, changing the appearance.\n",
      "*   **Phytoplankton:**  Can give the water a greenish hue.\n",
      "*   **Dissolved Organic Matter:** Can impart yellowish or brownish tones.\n",
      "*   **Sky Reflection:** Contributes to the observed color.\n",
      "\n",
      "\n",
      "\n",
      "**To help me tailor my explanation further, could you tell me:**\n",
      "\n",
      "*   What specifically are you interested in knowing about the ocean's color?\n",
      "*   Are you looking for information for a particular age group or purpose (e.g., a school project)?\n",
      "Assistant: Okay, I'm ready. Please tell me what you'd like to discuss or what you need help with. I'm here to assist you. \n",
      "\n",
      "For example, you could:\n",
      "\n",
      "*   **Ask a question:** \"What is the capital of France?\"\n",
      "*   **Give me a task:** \"Write a short poem about a cat.\"\n",
      "*   **Start a conversation:** \"What are your thoughts on artificial intelligence?\"\n",
      "*   **Ask for help with something:** \"Can you help me brainstorm ideas for a birthday gift?\"\n",
      "\n",
      "\n",
      "\n",
      "I'm waiting for your input!\n",
      "Assistant: Okay, I'm ready! Please tell me what you'd like to talk about or what you'd like me to do. I can help with many things, including:\n",
      "\n",
      "*   **Answering questions:** About almost any topic.\n",
      "*   **Generating text:** Like stories, poems, code, scripts, musical pieces, email, letters, etc.\n",
      "*   **Brainstorming ideas:** For a project, event, or problem.\n",
      "*   **Summarizing text:** Providing a condensed version of a longer piece.\n",
      "*   **Translating languages:** (Though my accuracy can vary).\n",
      "*   **Having a conversation:** Just chatting and providing a friendly presence.\n",
      "\n",
      "**Just let me know what you need!**\n",
      "Goodbye!\n"
     ]
    }
   ],
   "source": [
    "def stream_graph_updates(user_input: str):\n",
    "    for event in graph.stream({\"messages\": [{\"role\": \"user\", \"content\": user_input}]}):\n",
    "        for value in event.values():\n",
    "            print(\"Assistant:\", value[\"messages\"][-1].content)\n",
    "\n",
    "\n",
    "while True:\n",
    "    try:\n",
    "        user_input = input(\"User: \")\n",
    "        if user_input.lower() in [\"quit\", \"exit\", \"q\"]:\n",
    "            print(\"Goodbye!\")\n",
    "            break\n",
    "        stream_graph_updates(user_input)\n",
    "    except:\n",
    "        # fallback if input() is not available\n",
    "        user_input = \"What do you know about LangGraph?\"\n",
    "        print(\"User: \" + user_input)\n",
    "        stream_graph_updates(user_input)\n",
    "        break"
   ]
  },
  {
   "cell_type": "code",
   "execution_count": null,
   "id": "97d889f8",
   "metadata": {},
   "outputs": [],
   "source": []
  }
 ],
 "metadata": {
  "kernelspec": {
   "display_name": "study",
   "language": "python",
   "name": "python3"
  },
  "language_info": {
   "codemirror_mode": {
    "name": "ipython",
    "version": 3
   },
   "file_extension": ".py",
   "mimetype": "text/x-python",
   "name": "python",
   "nbconvert_exporter": "python",
   "pygments_lexer": "ipython3",
   "version": "3.10.18"
  }
 },
 "nbformat": 4,
 "nbformat_minor": 5
}
